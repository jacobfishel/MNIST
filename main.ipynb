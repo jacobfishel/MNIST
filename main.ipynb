{
 "cells": [
  {
   "cell_type": "code",
   "execution_count": 2,
   "metadata": {},
   "outputs": [
    {
     "ename": "ModuleNotFoundError",
     "evalue": "No module named 'torch'",
     "output_type": "error",
     "traceback": [
      "\u001b[31m---------------------------------------------------------------------------\u001b[39m",
      "\u001b[31mModuleNotFoundError\u001b[39m                       Traceback (most recent call last)",
      "\u001b[36mCell\u001b[39m\u001b[36m \u001b[39m\u001b[32mIn[2]\u001b[39m\u001b[32m, line 1\u001b[39m\n\u001b[32m----> \u001b[39m\u001b[32m1\u001b[39m \u001b[38;5;28;01mimport\u001b[39;00m\u001b[38;5;250m \u001b[39m\u001b[34;01mtorch\u001b[39;00m\n\u001b[32m      2\u001b[39m \u001b[38;5;28;01mimport\u001b[39;00m\u001b[38;5;250m \u001b[39m\u001b[34;01mtorch\u001b[39;00m\u001b[34;01m.\u001b[39;00m\u001b[34;01mnn\u001b[39;00m\u001b[38;5;250m \u001b[39m\u001b[38;5;28;01mas\u001b[39;00m\u001b[38;5;250m \u001b[39m\u001b[34;01mnn\u001b[39;00m\n\u001b[32m      3\u001b[39m \u001b[38;5;28;01mimport\u001b[39;00m\u001b[38;5;250m \u001b[39m\u001b[34;01mtorch\u001b[39;00m\u001b[34;01m.\u001b[39;00m\u001b[34;01mnn\u001b[39;00m\u001b[34;01m.\u001b[39;00m\u001b[34;01mfunctional\u001b[39;00m\u001b[38;5;250m \u001b[39m\u001b[38;5;28;01mas\u001b[39;00m\u001b[38;5;250m \u001b[39m\u001b[34;01mF\u001b[39;00m\n",
      "\u001b[31mModuleNotFoundError\u001b[39m: No module named 'torch'"
     ]
    }
   ],
   "source": [
    "import torch\n",
    "import torch.nn as nn\n",
    "import torch.nn.functional as F\n",
    "import torchvision\n",
    "import numpy as np\n",
    "import matplotlib.pyplot as plt\n",
    "from torch.optim import SGD\n",
    "import os\n",
    "import tarfile\n",
    "from torch.utils.data import Dataset, DataLoader"
   ]
  },
  {
   "cell_type": "markdown",
   "metadata": {},
   "source": [
    "# Import same MNIST dataset to run evaluations on locally\n",
    "\n",
    "Download MNIST Dataset here: www.di.ens.fr/~lelarge/MNIST.tar.gz"
   ]
  },
  {
   "cell_type": "code",
   "execution_count": null,
   "metadata": {},
   "outputs": [],
   "source": [
    "with tarfile.open(\"MNIST.tar.gz\") as tar:\n",
    "    tar.extractall(\"MNIST_data\")\n"
   ]
  },
  {
   "cell_type": "markdown",
   "metadata": {},
   "source": [
    "Load MNIST Data into tensors for later use"
   ]
  },
  {
   "cell_type": "code",
   "execution_count": null,
   "metadata": {},
   "outputs": [],
   "source": [
    "x, y = torch.load(\"MNIST_data/MNIST/processed/training.pt\")"
   ]
  },
  {
   "cell_type": "markdown",
   "metadata": {},
   "source": [
    "# Dataset Object"
   ]
  },
  {
   "cell_type": "code",
   "execution_count": null,
   "metadata": {},
   "outputs": [],
   "source": [
    "class CTDataset(Dataset):\n",
    "  def __init__(self, filepath):\n",
    "    self.x, self.y = torch.load(filepath)\n",
    "    self.x = self.x / 255 #Divide by 255 to normalize pixel values to the range of [0, 1]\n",
    "    self.y = F.one_hot(self.y, num_classes=10).to(float)\n",
    "  def __len__(self):\n",
    "    return self.x.shape[0]  #returns num of images\n",
    "  def __getitem__(self, ix):\n",
    "    return self.x[ix], self.y[ix]"
   ]
  },
  {
   "cell_type": "markdown",
   "metadata": {},
   "source": [
    "# Neural Net\n",
    "This is the neural net we trained. When we import the weights trained from our model earlier, it will load the correct weights into this neural net, and when we do a forward pass\n",
    "It will run it through the tweaked neural net and give us the correct outputs."
   ]
  },
  {
   "cell_type": "code",
   "execution_count": null,
   "metadata": {},
   "outputs": [],
   "source": [
    "class MyNeuralNet(nn.Module):\n",
    "  def __init__(self):\n",
    "    super().__init__()\n",
    "    self.Matrix1 = nn.Linear(28**2, 100)  # nn.Linear makes a link of nodes with param 1 being input size (our image sizes)\n",
    "    self.Matrix2 = nn.Linear(100, 50)         # and the second param being output size\n",
    "    self.Matrix3 = nn.Linear(50, 10)\n",
    "    self.R = nn.ReLU()    # ReLU is a function that introduces non-linearity, since a forward pass is just a linear transformation\n",
    "  def forward(self, x):\n",
    "    x = x.view(-1, 28**2)   #Get x into correct format for the pass\n",
    "    x = self.R(self.Matrix1(x))   # Introduce non-linearity at each layer and pass through all columns of neurons\n",
    "    x = self.R(self.Matrix2(x))\n",
    "    x = self.Matrix3(x)\n",
    "    return x.squeeze()  #Remove single dimensions\n"
   ]
  },
  {
   "cell_type": "markdown",
   "metadata": {},
   "source": [
    "# We need to format the input data"
   ]
  },
  {
   "cell_type": "code",
   "execution_count": null,
   "metadata": {},
   "outputs": [],
   "source": [
    "test_ds = CTDataset(\"MNIST_data/MNIST/processed/test.pt\")\n",
    "x_test, y_test = test_ds[:]"
   ]
  },
  {
   "cell_type": "code",
   "execution_count": null,
   "metadata": {},
   "outputs": [],
   "source": [
    "f = MyNeuralNet()\n",
    "f.load_state_dict(torch.load(\"model.pth\"))\n",
    "yhats_test = f(x_test).argmax(axis=1)"
   ]
  },
  {
   "cell_type": "markdown",
   "metadata": {},
   "source": [
    "# Get our data ready to evaluate"
   ]
  },
  {
   "cell_type": "code",
   "execution_count": null,
   "metadata": {},
   "outputs": [],
   "source": [
    "#pass one image through\n",
    "yhat_test = f(x_test[0]).argmax()\n",
    "print(f\"Predicted: {yhat_test}, actual: {y_test[0]}\")"
   ]
  },
  {
   "cell_type": "markdown",
   "metadata": {},
   "source": [
    "Now pass all through and plot\n",
    "left off here. find out how to pass the entire array of images."
   ]
  },
  {
   "cell_type": "code",
   "execution_count": null,
   "metadata": {},
   "outputs": [],
   "source": [
    "fig, ax = plt.subplots(10, 4, figsize=(10, 15))\n",
    "for i in range(40):\n",
    "  plt.subplot(10, 4, i+1)\n",
    "  plt.imshow(x_test[i])\n",
    "  plt.title(f\"Predicted Digit: {yhats_test[i]}\")\n",
    "fig.tight_layout()\n",
    "plt.show()"
   ]
  },
  {
   "cell_type": "markdown",
   "metadata": {},
   "source": []
  }
 ],
 "metadata": {
  "kernelspec": {
   "display_name": "Python 3",
   "language": "python",
   "name": "python3"
  },
  "language_info": {
   "codemirror_mode": {
    "name": "ipython",
    "version": 3
   },
   "file_extension": ".py",
   "mimetype": "text/x-python",
   "name": "python",
   "nbconvert_exporter": "python",
   "pygments_lexer": "ipython3",
   "version": "3.11.9"
  }
 },
 "nbformat": 4,
 "nbformat_minor": 2
}
